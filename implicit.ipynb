{
 "cells": [
  {
   "cell_type": "code",
   "execution_count": 2,
   "metadata": {},
   "outputs": [
    {
     "data": {
      "text/plain": [
       "2*x^3"
      ]
     },
     "execution_count": 2,
     "metadata": {},
     "output_type": "execute_result"
    }
   ],
   "source": [
    "P.<x,y,z> = PolynomialRing(QQ, 2)\n",
    "a = x + y\n",
    "b = x^3 - y^3\n",
    "a.resultant(b)\n",
    "a.resultant(b, y)"
   ]
  },
  {
   "cell_type": "code",
   "execution_count": 65,
   "metadata": {
    "scrolled": true
   },
   "outputs": [
    {
     "ename": "TypeError",
     "evalue": "resultant() takes exactly 2 positional arguments (3 given)",
     "output_type": "error",
     "traceback": [
      "\u001b[0;31m---------------------------------------------------------------------------\u001b[0m",
      "\u001b[0;31mTypeError\u001b[0m                                 Traceback (most recent call last)",
      "\u001b[0;32m<ipython-input-65-5461a86e8550>\u001b[0m in \u001b[0;36m<module>\u001b[0;34m\u001b[0m\n\u001b[1;32m     14\u001b[0m ])\n\u001b[1;32m     15\u001b[0m \u001b[0;34m\u001b[0m\u001b[0m\n\u001b[0;32m---> 16\u001b[0;31m \u001b[0mprint\u001b[0m\u001b[0;34m(\u001b[0m\u001b[0mparamX\u001b[0m\u001b[0;34m.\u001b[0m\u001b[0mresultant\u001b[0m\u001b[0;34m(\u001b[0m\u001b[0mparamY\u001b[0m\u001b[0;34m,\u001b[0m\u001b[0mparamZ\u001b[0m\u001b[0;34m,\u001b[0m\u001b[0mx\u001b[0m\u001b[0;34m)\u001b[0m\u001b[0;34m)\u001b[0m\u001b[0;34m\u001b[0m\u001b[0;34m\u001b[0m\u001b[0m\n\u001b[0m\u001b[1;32m     17\u001b[0m \u001b[0mres\u001b[0m \u001b[0;34m=\u001b[0m \u001b[0mM\u001b[0m\u001b[0;34m.\u001b[0m\u001b[0mdeterminant\u001b[0m\u001b[0;34m(\u001b[0m\u001b[0;34m)\u001b[0m\u001b[0;34m\u001b[0m\u001b[0;34m\u001b[0m\u001b[0m\n\u001b[1;32m     18\u001b[0m \u001b[0mprint\u001b[0m\u001b[0;34m(\u001b[0m\u001b[0;34m\"RES: \"\u001b[0m\u001b[0;34m,\u001b[0m \u001b[0mres\u001b[0m\u001b[0;34m)\u001b[0m\u001b[0;34m\u001b[0m\u001b[0;34m\u001b[0m\u001b[0m\n",
      "\u001b[0;32m/opt/sagemath-9.3/local/lib/python3.7/site-packages/sage/symbolic/expression.pyx\u001b[0m in \u001b[0;36msage.symbolic.expression.Expression.resultant (build/cythonized/sage/symbolic/expression.cpp:43764)\u001b[0;34m()\u001b[0m\n\u001b[1;32m   7616\u001b[0m             \u001b[0;32mraise\u001b[0m \u001b[0mValueError\u001b[0m\u001b[0;34m(\u001b[0m\u001b[0;34m\"lcm: arguments must be polynomials over the rationals\"\u001b[0m\u001b[0;34m)\u001b[0m\u001b[0;34m\u001b[0m\u001b[0;34m\u001b[0m\u001b[0m\n\u001b[1;32m   7617\u001b[0m \u001b[0;34m\u001b[0m\u001b[0m\n\u001b[0;32m-> 7618\u001b[0;31m     \u001b[0;32mdef\u001b[0m \u001b[0mresultant\u001b[0m\u001b[0;34m(\u001b[0m\u001b[0mself\u001b[0m\u001b[0;34m,\u001b[0m \u001b[0mother\u001b[0m\u001b[0;34m,\u001b[0m \u001b[0mvar\u001b[0m\u001b[0;34m)\u001b[0m\u001b[0;34m:\u001b[0m\u001b[0;34m\u001b[0m\u001b[0;34m\u001b[0m\u001b[0m\n\u001b[0m\u001b[1;32m   7619\u001b[0m         \"\"\"\n\u001b[1;32m   7620\u001b[0m         \u001b[0mCompute\u001b[0m \u001b[0mthe\u001b[0m \u001b[0mresultant\u001b[0m \u001b[0mof\u001b[0m \u001b[0mthis\u001b[0m \u001b[0mpolynomial\u001b[0m \u001b[0mexpression\u001b[0m \u001b[0;32mand\u001b[0m \u001b[0mthe\u001b[0m \u001b[0mfirst\u001b[0m\u001b[0;34m\u001b[0m\u001b[0;34m\u001b[0m\u001b[0m\n",
      "\u001b[0;31mTypeError\u001b[0m: resultant() takes exactly 2 positional arguments (3 given)"
     ]
    }
   ],
   "source": [
    "# Declarar las variables simbólicas\n",
    "s, t, x, y, z = SR.var('s t x y z')\n",
    "\n",
    "# Definir los polinomios\n",
    "paramX = s+t\n",
    "paramY = s\n",
    "paramZ = t\n",
    "\n",
    "# Crear la matriz con variables\n",
    "M = Matrix([\n",
    "    [-x, paramX.coefficient(s), paramX.coefficient(t)],\n",
    "    [-y, paramY.coefficient(s), paramY.coefficient(t)],\n",
    "    [-z, paramZ.coefficient(s), paramZ.coefficient(t)]\n",
    "])\n",
    "\n",
    "print(paramX.resultant(paramY,paramZ,x))\n",
    "res = M.determinant()\n",
    "print(\"RES: \", res)\n",
    "\n",
    "variablesPresentes = [elem for elem in res.variables() if elem != s and elem != t]\n",
    "derivada = res.diff(variablesPresentes[0])\n",
    "print(\"DERIVADA RESPECTO \", variablesPresentes[0], \": \" , derivada)\n",
    "\n",
    "mcd = res.gcd(derivada)\n",
    "print(\"GCD: \", mcd)\n",
    "\n",
    "implicit = res/(mcd)\n",
    "\n",
    "print(implicit)"
   ]
  },
  {
   "cell_type": "code",
   "execution_count": 74,
   "metadata": {
    "scrolled": true
   },
   "outputs": [
    {
     "ename": "TypeError",
     "evalue": "resultant() takes at most 2 positional arguments (3 given)",
     "output_type": "error",
     "traceback": [
      "\u001b[0;31m---------------------------------------------------------------------------\u001b[0m",
      "\u001b[0;31mTypeError\u001b[0m                                 Traceback (most recent call last)",
      "\u001b[0;32m<ipython-input-74-947792841e10>\u001b[0m in \u001b[0;36m<module>\u001b[0;34m\u001b[0m\n\u001b[1;32m     10\u001b[0m \u001b[0;34m-\u001b[0m\u001b[0mInteger\u001b[0m\u001b[0;34m(\u001b[0m\u001b[0;36m2\u001b[0m\u001b[0;34m)\u001b[0m\u001b[0;34m*\u001b[0m\u001b[0my\u001b[0m\u001b[0;34m**\u001b[0m\u001b[0mInteger\u001b[0m\u001b[0;34m(\u001b[0m\u001b[0;36m3\u001b[0m\u001b[0;34m)\u001b[0m\u001b[0;34m\u001b[0m\u001b[0;34m\u001b[0m\u001b[0m\n\u001b[1;32m     11\u001b[0m \u001b[0ma\u001b[0m\u001b[0;34m.\u001b[0m\u001b[0mresultant\u001b[0m\u001b[0;34m(\u001b[0m\u001b[0mb\u001b[0m\u001b[0;34m,\u001b[0m \u001b[0mx\u001b[0m\u001b[0;34m)\u001b[0m\u001b[0;34m\u001b[0m\u001b[0;34m\u001b[0m\u001b[0m\n\u001b[0;32m---> 12\u001b[0;31m \u001b[0mprint\u001b[0m\u001b[0;34m(\u001b[0m\u001b[0mparamX\u001b[0m\u001b[0;34m.\u001b[0m\u001b[0mresultant\u001b[0m\u001b[0;34m(\u001b[0m\u001b[0mparamY\u001b[0m\u001b[0;34m,\u001b[0m\u001b[0mparamZ\u001b[0m\u001b[0;34m,\u001b[0m\u001b[0mx\u001b[0m\u001b[0;34m)\u001b[0m\u001b[0;34m)\u001b[0m\u001b[0;34m\u001b[0m\u001b[0;34m\u001b[0m\u001b[0m\n\u001b[0m",
      "\u001b[0;32m/opt/sagemath-9.3/local/lib/python3.7/site-packages/sage/rings/polynomial/multi_polynomial_libsingular.pyx\u001b[0m in \u001b[0;36msage.rings.polynomial.multi_polynomial_libsingular.MPolynomial_libsingular.resultant (build/cythonized/sage/rings/polynomial/multi_polynomial_libsingular.cpp:41346)\u001b[0;34m()\u001b[0m\n\u001b[1;32m   5383\u001b[0m         \u001b[0;32mreturn\u001b[0m \u001b[0mnew_MP\u001b[0m\u001b[0;34m(\u001b[0m\u001b[0mself\u001b[0m\u001b[0;34m.\u001b[0m\u001b[0m_parent\u001b[0m\u001b[0;34m,\u001b[0m \u001b[0m_p\u001b[0m\u001b[0;34m)\u001b[0m\u001b[0;34m\u001b[0m\u001b[0;34m\u001b[0m\u001b[0m\n\u001b[1;32m   5384\u001b[0m \u001b[0;34m\u001b[0m\u001b[0m\n\u001b[0;32m-> 5385\u001b[0;31m     \u001b[0;32mdef\u001b[0m \u001b[0mresultant\u001b[0m\u001b[0;34m(\u001b[0m\u001b[0mself\u001b[0m\u001b[0;34m,\u001b[0m \u001b[0mMPolynomial_libsingular\u001b[0m \u001b[0mother\u001b[0m\u001b[0;34m,\u001b[0m \u001b[0mvariable\u001b[0m\u001b[0;34m=\u001b[0m\u001b[0;32mNone\u001b[0m\u001b[0;34m)\u001b[0m\u001b[0;34m:\u001b[0m\u001b[0;34m\u001b[0m\u001b[0;34m\u001b[0m\u001b[0m\n\u001b[0m\u001b[1;32m   5386\u001b[0m         \"\"\"\n\u001b[1;32m   5387\u001b[0m         \u001b[0mCompute\u001b[0m \u001b[0mthe\u001b[0m \u001b[0mresultant\u001b[0m \u001b[0mof\u001b[0m \u001b[0mthis\u001b[0m \u001b[0mpolynomial\u001b[0m \u001b[0;32mand\u001b[0m \u001b[0mthe\u001b[0m \u001b[0mfirst\u001b[0m\u001b[0;34m\u001b[0m\u001b[0;34m\u001b[0m\u001b[0m\n",
      "\u001b[0;31mTypeError\u001b[0m: resultant() takes at most 2 positional arguments (3 given)"
     ]
    }
   ],
   "source": [
    "P.<s,t,x,y,z> = PolynomialRing(QQ, 5)\n",
    "\n",
    "paramX = s+t\n",
    "paramY = s\n",
    "paramZ = t\n",
    "\n",
    "a = x + y\n",
    "b = x^3 - y^3\n",
    "a.resultant(b)\n",
    "-2*y^3\n",
    "a.resultant(b, x)\n",
    "print(paramX.resultant(paramY,paramZ,x))\n"
   ]
  },
  {
   "cell_type": "code",
   "execution_count": 35,
   "metadata": {},
   "outputs": [],
   "source": [
    "from sage.rings.polynomial.toy_buchberger import buchberger\n",
    "from sage.rings.polynomial.toy_buchberger import spol\n",
    "\n",
    "P.<s,t,x,y,z,a> = PolynomialRing(QQ, 6, order='lex')\n",
    "set_verbose(0)\n",
    "\n",
    "def implicitate(f1,f2,f3,q1,q2,q3):\n",
    "    I = ideal(q1*x-f1, q2*y-f2, q3*z-f3, 1-q1*q2*q3*a)\n",
    "#     B = I.groebner_basis()\n",
    "    B = buchberger(I)\n",
    "    res = [p for p in B if s not in p.variables() and t not in p.variables() and a not in p.variables()]\n",
    "    print(res)\n"
   ]
  },
  {
   "cell_type": "code",
   "execution_count": 38,
   "metadata": {},
   "outputs": [
    {
     "name": "stdout",
     "output_type": "stream",
     "text": [
      "[1/2*x - 5/2*y^2 - z^2 + 5]\n",
      "CPU times: user 0 ns, sys: 0 ns, total: 0 ns\n",
      "Wall time: 1.47 ms\n"
     ]
    }
   ],
   "source": [
    "time(implicitate(5*t^2 + 2*s^2 - 10, t,s,1,1,1))"
   ]
  },
  {
   "cell_type": "code",
   "execution_count": 30,
   "metadata": {},
   "outputs": [
    {
     "name": "stdout",
     "output_type": "stream",
     "text": [
      "[x - y - z]\n",
      " "
     ]
    }
   ],
   "source": [
    "prun(implicitate(s+t, s, t,1,1,1))"
   ]
  },
  {
   "cell_type": "code",
   "execution_count": 42,
   "metadata": {},
   "outputs": [
    {
     "name": "stdout",
     "output_type": "stream",
     "text": [
      "[x^2 - y^2 - z]\n",
      "CPU times: user 0 ns, sys: 0 ns, total: 0 ns\n",
      "Wall time: 1.27 ms\n"
     ]
    }
   ],
   "source": [
    "time(implicitate(t,s,t^2-s^2,1,1,1))"
   ]
  },
  {
   "cell_type": "code",
   "execution_count": 44,
   "metadata": {},
   "outputs": [
    {
     "name": "stdout",
     "output_type": "stream",
     "text": [
      "[x^2 + y^2 + z^2 - 1, x^2*y + y^3 + y*z^2 - y]\n",
      "CPU times: user 703 ms, sys: 16 ms, total: 719 ms\n",
      "Wall time: 700 ms\n"
     ]
    }
   ],
   "source": [
    "time(implicitate(2*s,2*t,s^2 + t^2 - 1, s^2 + t^2 + 1,s^2 + t^2 + 1,s^2 + t^2 + 1))"
   ]
  },
  {
   "cell_type": "code",
   "execution_count": 10,
   "metadata": {},
   "outputs": [
    {
     "name": "stdout",
     "output_type": "stream",
     "text": [
      "[t, x - 1/3*y, z^3]\n"
     ]
    }
   ],
   "source": [
    "from sage.rings.polynomial.toy_buchberger import buchberger\n",
    "from sage.rings.polynomial.toy_buchberger import spol\n",
    "\n",
    "P.<t,x,y,z> = PolynomialRing(QQ, 4, order='lex')\n",
    "\n",
    "I = ideal(z^3 - t^2*x*z,3*x-y,t )\n",
    "B = I.groebner_basis()\n",
    "print(B)"
   ]
  }
 ],
 "metadata": {
  "kernelspec": {
   "display_name": "SageMath 9.3",
   "language": "sage",
   "name": "sagemath"
  },
  "language_info": {
   "codemirror_mode": {
    "name": "ipython",
    "version": 3
   },
   "file_extension": ".py",
   "mimetype": "text/x-python",
   "name": "python",
   "nbconvert_exporter": "python",
   "pygments_lexer": "ipython3",
   "version": "3.7.10"
  }
 },
 "nbformat": 4,
 "nbformat_minor": 4
}
