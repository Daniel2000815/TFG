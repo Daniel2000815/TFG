{
 "cells": [
  {
   "cell_type": "code",
   "execution_count": 3,
   "metadata": {},
   "outputs": [],
   "source": []
  },
  {
   "cell_type": "code",
   "execution_count": 182,
   "metadata": {},
   "outputs": [
    {
     "data": {
      "text/plain": [
       "[y - 1/3*z^2]"
      ]
     },
     "execution_count": 182,
     "metadata": {},
     "output_type": "execute_result"
    }
   ],
   "source": [
    "from sage.rings.polynomial.toy_buchberger import buchberger\n",
    "from sage.rings.polynomial.toy_buchberger import spol\n",
    "set_verbose(3)\n",
    "\n",
    "# Definimos anillo\n",
    "P.<s,t,l,x,y,z> = PolynomialRing(QQ, 6, order='lex')\n",
    "\n",
    "f1 = s^5*t^3 - t^2*s + 5t^10*s+t^2\n",
    "f2 = t^2*s^3-t^5*s^2+t\n",
    "f3=2*t^12*s^3 + 90*s\n",
    "q1=s^2*t^5+t^5*s^2\n",
    "q2=s*6-t\n",
    "q3=\n",
    "def implicitate(f1,f2,f3,q1,q2,q3):\n",
    "    # l es la variable de eliminación\n",
    "    I = ideal(q1*x-f1, q2*y-f2, q3*z-f3, 1-q1*q2*q3*l)\n",
    "    B = I.groebner_basis()\n",
    "#     B = buchberger(I)\n",
    "    # generadores del ideal de eliminación\n",
    "    return [p for p in B if all(var not in p.variables() for var in [s, t, l])]\n",
    "\n",
    "implicitate(f1,f2,f3,q1,q2,q3)"
   ]
  },
  {
   "cell_type": "code",
   "execution_count": 135,
   "metadata": {},
   "outputs": [],
   "source": [
    "# sage 1\n",
    "\n",
    "f1 = t-s\n",
    "q1 = t\n",
    "f2=s\n",
    "q2=t\n",
    "f3 = s^3+t^2\n",
    "q3 = t^2"
   ]
  },
  {
   "cell_type": "code",
   "execution_count": 147,
   "metadata": {},
   "outputs": [],
   "source": [
    "# sage 2\n",
    "\n",
    "f1 = s\n",
    "q1 = t\n",
    "f2=s\n",
    "q2=t^2\n",
    "f3 = s+t\n",
    "q3 = s"
   ]
  },
  {
   "cell_type": "code",
   "execution_count": 156,
   "metadata": {},
   "outputs": [],
   "source": [
    "# sage 3\n",
    "a=2\n",
    "b=3\n",
    "c=1\n",
    "f1 = s\n",
    "q1 = s*t\n",
    "f2 = t^2 - s\n",
    "q2 = t^2\n",
    "f3=t\n",
    "q3=s\n",
    "\n",
    "\n"
   ]
  },
  {
   "cell_type": "code",
   "execution_count": 169,
   "metadata": {},
   "outputs": [],
   "source": [
    "# sage 4\n",
    "\n",
    "f1 = t-s^2\n",
    "q1 = s*t\n",
    "f2=s^2\n",
    "q2=3\n",
    "f3 = s\n",
    "q3 = 1"
   ]
  },
  {
   "cell_type": "code",
   "execution_count": 180,
   "metadata": {},
   "outputs": [
    {
     "name": "stdout",
     "output_type": "stream",
     "text": [
      "CPU times: user 0 ns, sys: 0 ns, total: 0 ns\n",
      "Wall time: 4.37 ms\n"
     ]
    },
    {
     "data": {
      "text/plain": [
       "[-3*y + z^2]"
      ]
     },
     "execution_count": 180,
     "metadata": {},
     "output_type": "execute_result"
    }
   ],
   "source": [
    "time(implicitate(f1,f2,f3,q1,q2,q3))"
   ]
  },
  {
   "cell_type": "markdown",
   "metadata": {},
   "source": [
    "# Elliptic Paraboloid"
   ]
  },
  {
   "cell_type": "code",
   "execution_count": 52,
   "metadata": {
    "scrolled": true
   },
   "outputs": [
    {
     "name": "stdout",
     "output_type": "stream",
     "text": [
      "True\n",
      "[x - y^2 - z^2]\n",
      "CPU times: user 0 ns, sys: 0 ns, total: 0 ns\n",
      "Wall time: 40.5 ms\n"
     ]
    }
   ],
   "source": [
    "time(implicitate(t^2 + s^2, t,s,1,1,1))"
   ]
  },
  {
   "cell_type": "markdown",
   "metadata": {},
   "source": [
    "# Plane 1"
   ]
  },
  {
   "cell_type": "code",
   "execution_count": 53,
   "metadata": {},
   "outputs": [
    {
     "name": "stdout",
     "output_type": "stream",
     "text": [
      "True\n",
      "[x + y + z - 1]\n",
      "CPU times: user 31 ms, sys: 0 ns, total: 31 ms\n",
      "Wall time: 47 ms\n"
     ]
    }
   ],
   "source": [
    "time(implicitate(s*t+s+t+1, -s*t, -s-t,1,1,1))"
   ]
  },
  {
   "cell_type": "markdown",
   "metadata": {},
   "source": [
    "# Plane 2"
   ]
  },
  {
   "cell_type": "code",
   "execution_count": 3,
   "metadata": {},
   "outputs": [
    {
     "name": "stdout",
     "output_type": "stream",
     "text": [
      "[x - y - z]\n",
      "CPU times: user 0 ns, sys: 0 ns, total: 0 ns\n",
      "Wall time: 32.1 ms\n"
     ]
    }
   ],
   "source": [
    "time(implicitate(s+t, s, t,1,1,1))"
   ]
  },
  {
   "cell_type": "markdown",
   "metadata": {},
   "source": [
    "# Hiperbolic Paraboloid"
   ]
  },
  {
   "cell_type": "code",
   "execution_count": 31,
   "metadata": {
    "scrolled": true
   },
   "outputs": [
    {
     "name": "stdout",
     "output_type": "stream",
     "text": [
      "[x^2 - y^2 - z]\n",
      "CPU times: user 0 ns, sys: 0 ns, total: 0 ns\n",
      "Wall time: 1.46 ms\n"
     ]
    }
   ],
   "source": [
    "time(implicitate(t,s,t^2-s^2,1,1,1))"
   ]
  },
  {
   "cell_type": "markdown",
   "metadata": {},
   "source": [
    "# Cubic surface ?"
   ]
  },
  {
   "cell_type": "code",
   "execution_count": 5,
   "metadata": {
    "scrolled": true
   },
   "outputs": [
    {
     "name": "stdout",
     "output_type": "stream",
     "text": [
      "[2/3*x^3 + 2/3*y^3 - 9/4*z^3 + 9/4*z^2 + 9/4*z - 9/4]\n",
      "CPU times: user 93 ms, sys: 0 ns, total: 93 ms\n",
      "Wall time: 102 ms\n"
     ]
    }
   ],
   "source": [
    "time(implicitate(3*s, 3*t, -1+s^3+t^3, 1+s^3+t^3,1+s^3+t^3,1+s^3+t^3))"
   ]
  },
  {
   "cell_type": "markdown",
   "metadata": {},
   "source": [
    "# Hiperboloide circular"
   ]
  },
  {
   "cell_type": "code",
   "execution_count": 6,
   "metadata": {
    "scrolled": true
   },
   "outputs": [
    {
     "name": "stdout",
     "output_type": "stream",
     "text": [
      "[x^2 - y^2 - z]\n",
      "CPU times: user 0 ns, sys: 0 ns, total: 0 ns\n",
      "Wall time: 1.56 ms\n"
     ]
    }
   ],
   "source": [
    "time(implicitate(s+t, s-t, s*t,2,2,1))"
   ]
  },
  {
   "cell_type": "markdown",
   "metadata": {},
   "source": [
    "# Hiperboloide 1 hoja"
   ]
  },
  {
   "cell_type": "code",
   "execution_count": 7,
   "metadata": {},
   "outputs": [],
   "source": [
    "a=b=c=1\n",
    "\n",
    "f1 = a*(1-s^2)*(1+t^2)\n",
    "q1 = (1+s^2)*(1-t^2)\n",
    "f2 = b*2*s*(1+t^2)\n",
    "q2 = (1+s^2)*(1-t^2)\n",
    "f3=c*2*t\n",
    "q3=1-t^2"
   ]
  },
  {
   "cell_type": "code",
   "execution_count": 9,
   "metadata": {
    "scrolled": true
   },
   "outputs": [
    {
     "name": "stdout",
     "output_type": "stream",
     "text": [
      "[x^2 + y^2 - z^2 - 1]\n",
      "CPU times: user 0 ns, sys: 0 ns, total: 0 ns\n",
      "Wall time: 9.52 ms\n"
     ]
    }
   ],
   "source": [
    "time(implicitate(f1,f2,f3,q1,q2,q3))"
   ]
  },
  {
   "cell_type": "markdown",
   "metadata": {},
   "source": [
    "# Cono elíptico?"
   ]
  },
  {
   "cell_type": "code",
   "execution_count": 46,
   "metadata": {},
   "outputs": [],
   "source": [
    "a=b=c=1\n",
    "\n",
    "f1 = a*s\n",
    "q1 = 1\n",
    "f2 = b*t\n",
    "q2 = 1\n",
    "f3 = c*  (a^2 * s^2 + b^2 * t^2)\n",
    "q3 = a^2+b^2"
   ]
  },
  {
   "cell_type": "code",
   "execution_count": 47,
   "metadata": {},
   "outputs": [
    {
     "name": "stdout",
     "output_type": "stream",
     "text": [
      "[x^2 + y^2 - 2*z]\n",
      "CPU times: user 0 ns, sys: 0 ns, total: 0 ns\n",
      "Wall time: 1.4 ms\n"
     ]
    }
   ],
   "source": [
    "time(implicitate(f1,f2,f3,q1,q2,q3))"
   ]
  },
  {
   "cell_type": "markdown",
   "metadata": {},
   "source": [
    "# Hiperboloide 2 hojas ?"
   ]
  },
  {
   "cell_type": "code",
   "execution_count": 16,
   "metadata": {},
   "outputs": [
    {
     "ename": "NotImplementedError",
     "evalue": "sqrt() of non squares is only implemented for integral domains, not for Multivariate Polynomial Ring in s, t, x, y, z, a over Rational Field",
     "output_type": "error",
     "traceback": [
      "\u001b[0;31m---------------------------------------------------------------------------\u001b[0m",
      "\u001b[0;31mNotImplementedError\u001b[0m                       Traceback (most recent call last)",
      "\u001b[0;32m<timed eval>\u001b[0m in \u001b[0;36m<module>\u001b[0;34m\u001b[0m\n",
      "\u001b[0;32m/opt/sagemath-9.3/local/lib/python3.7/site-packages/sage/functions/other.py\u001b[0m in \u001b[0;36msqrt\u001b[0;34m(x, *args, **kwds)\u001b[0m\n\u001b[1;32m    896\u001b[0m             \u001b[0;32mreturn\u001b[0m \u001b[0msqrt\u001b[0m\u001b[0;34m(\u001b[0m\u001b[0mx\u001b[0m\u001b[0;34m)\u001b[0m\u001b[0;34m\u001b[0m\u001b[0;34m\u001b[0m\u001b[0m\n\u001b[1;32m    897\u001b[0m         \u001b[0;32mtry\u001b[0m\u001b[0;34m:\u001b[0m\u001b[0;34m\u001b[0m\u001b[0;34m\u001b[0m\u001b[0m\n\u001b[0;32m--> 898\u001b[0;31m             \u001b[0;32mreturn\u001b[0m \u001b[0mx\u001b[0m\u001b[0;34m.\u001b[0m\u001b[0msqrt\u001b[0m\u001b[0;34m(\u001b[0m\u001b[0;34m*\u001b[0m\u001b[0margs\u001b[0m\u001b[0;34m,\u001b[0m \u001b[0;34m**\u001b[0m\u001b[0mkwds\u001b[0m\u001b[0;34m)\u001b[0m\u001b[0;34m\u001b[0m\u001b[0;34m\u001b[0m\u001b[0m\n\u001b[0m\u001b[1;32m    899\u001b[0m         \u001b[0;31m# The following includes TypeError to catch cases where sqrt\u001b[0m\u001b[0;34m\u001b[0m\u001b[0;34m\u001b[0m\u001b[0;34m\u001b[0m\u001b[0m\n\u001b[1;32m    900\u001b[0m         \u001b[0;31m# is called with a \"prec\" keyword, for example, but the sqrt\u001b[0m\u001b[0;34m\u001b[0m\u001b[0;34m\u001b[0m\u001b[0;34m\u001b[0m\u001b[0m\n",
      "\u001b[0;32m/opt/sagemath-9.3/local/lib/python3.7/site-packages/sage/structure/element.pyx\u001b[0m in \u001b[0;36msage.structure.element.CommutativeRingElement.sqrt (build/cythonized/sage/structure/element.c:21858)\u001b[0;34m()\u001b[0m\n\u001b[1;32m   3234\u001b[0m         \u001b[0;31m#from now on we know that self is not a square\u001b[0m\u001b[0;34m\u001b[0m\u001b[0;34m\u001b[0m\u001b[0;34m\u001b[0m\u001b[0m\n\u001b[1;32m   3235\u001b[0m         \u001b[0;32mif\u001b[0m \u001b[0;32mnot\u001b[0m \u001b[0misinstance\u001b[0m\u001b[0;34m(\u001b[0m\u001b[0mP\u001b[0m\u001b[0;34m,\u001b[0m \u001b[0mIntegralDomain\u001b[0m\u001b[0;34m)\u001b[0m\u001b[0;34m:\u001b[0m\u001b[0;34m\u001b[0m\u001b[0;34m\u001b[0m\u001b[0m\n\u001b[0;32m-> 3236\u001b[0;31m             \u001b[0;32mraise\u001b[0m \u001b[0mNotImplementedError\u001b[0m\u001b[0;34m(\u001b[0m\u001b[0;34m'sqrt() of non squares is only implemented for integral domains, not for %s'\u001b[0m \u001b[0;34m%\u001b[0m \u001b[0mP\u001b[0m\u001b[0;34m)\u001b[0m\u001b[0;34m\u001b[0m\u001b[0;34m\u001b[0m\u001b[0m\n\u001b[0m\u001b[1;32m   3237\u001b[0m         \u001b[0;32mif\u001b[0m \u001b[0;32mnot\u001b[0m \u001b[0mextend\u001b[0m\u001b[0;34m:\u001b[0m\u001b[0;34m\u001b[0m\u001b[0;34m\u001b[0m\u001b[0m\n\u001b[1;32m   3238\u001b[0m             \u001b[0;31m#all square roots of a non-square should be an empty list\u001b[0m\u001b[0;34m\u001b[0m\u001b[0;34m\u001b[0m\u001b[0;34m\u001b[0m\u001b[0m\n",
      "\u001b[0;31mNotImplementedError\u001b[0m: sqrt() of non squares is only implemented for integral domains, not for Multivariate Polynomial Ring in s, t, x, y, z, a over Rational Field"
     ]
    }
   ],
   "source": [
    "time(implicitate(s,t, sqrt(s^2 + t^2 - 1),1,1,1))"
   ]
  },
  {
   "cell_type": "markdown",
   "metadata": {},
   "source": [
    "# Ellipsoid\n"
   ]
  },
  {
   "cell_type": "code",
   "execution_count": 43,
   "metadata": {},
   "outputs": [
    {
     "name": "stdout",
     "output_type": "stream",
     "text": [
      "[x^2 + y^2 - z]\n",
      "CPU times: user 0 ns, sys: 0 ns, total: 0 ns\n",
      "Wall time: 1.3 ms\n"
     ]
    }
   ],
   "source": [
    "time(implicitate(s,t,s^2+t^2,1,1,1))"
   ]
  },
  {
   "cell_type": "markdown",
   "metadata": {},
   "source": [
    "# Esfera"
   ]
  },
  {
   "cell_type": "code",
   "execution_count": 98,
   "metadata": {
    "scrolled": false
   },
   "outputs": [
    {
     "name": "stdout",
     "output_type": "stream",
     "text": [
      "CPU times: user 0 ns, sys: 0 ns, total: 0 ns\n",
      "Wall time: 1.88 ms\n"
     ]
    },
    {
     "data": {
      "text/plain": [
       "[x^2 + y^2 + z^2 - 1]"
      ]
     },
     "execution_count": 98,
     "metadata": {},
     "output_type": "execute_result"
    }
   ],
   "source": [
    "time(implicitate(2*s,2*t,s^2 + t^2 - 1, s^2 + t^2 + 1,s^2 + t^2 + 1,s^2 + t^2 + 1))"
   ]
  },
  {
   "cell_type": "markdown",
   "metadata": {},
   "source": [
    "# Ringed"
   ]
  },
  {
   "cell_type": "code",
   "execution_count": 21,
   "metadata": {},
   "outputs": [],
   "source": [
    "f1 = (s-5+t)*(s*t-1)\n",
    "f2=2*(s-t+t)*(1+s^2)\n",
    "f3 = 3*s^3+5*s-2*s*t+5*t+5\n",
    "q=t^2+5+4*t^2"
   ]
  },
  {
   "cell_type": "code",
   "execution_count": 99,
   "metadata": {},
   "outputs": [
    {
     "ename": "NameError",
     "evalue": "name 'q' is not defined",
     "output_type": "error",
     "traceback": [
      "\u001b[0;31m---------------------------------------------------------------------------\u001b[0m",
      "\u001b[0;31mNameError\u001b[0m                                 Traceback (most recent call last)",
      "\u001b[0;32m<timed eval>\u001b[0m in \u001b[0;36m<module>\u001b[0;34m\u001b[0m\n",
      "\u001b[0;31mNameError\u001b[0m: name 'q' is not defined"
     ]
    }
   ],
   "source": [
    "time(implicitate(f1,f2,f3,q,q,q))"
   ]
  },
  {
   "cell_type": "markdown",
   "metadata": {},
   "source": [
    "# Esfera radio $r$"
   ]
  },
  {
   "cell_type": "code",
   "execution_count": 16,
   "metadata": {},
   "outputs": [
    {
     "ename": "SyntaxError",
     "evalue": "EOL while scanning string literal (<ipython-input-16-3abd2df06981>, line 2)",
     "output_type": "error",
     "traceback": [
      "\u001b[0;36m  File \u001b[0;32m\"<ipython-input-16-3abd2df06981>\"\u001b[0;36m, line \u001b[0;32m2\u001b[0m\n\u001b[0;31m    yPar= [t**Integer(2)-s**Integer(2)-r**Integer(2)+Integer(2)*s*t+t*r, \"s^2 + t^2 + r^2]\u001b[0m\n\u001b[0m                                                                                          ^\u001b[0m\n\u001b[0;31mSyntaxError\u001b[0m\u001b[0;31m:\u001b[0m EOL while scanning string literal\n"
     ]
    }
   ],
   "source": [
    "\n",
    "P.<s,t,x,y,z,r,l> = PolynomialRing(QQ, 7, order='lex')\n",
    "\n",
    "xPar= [s^2 - t^2 - r^2 + 2*s*t + 2*s*r, s^2 + t^2 + r^2]\n",
    "yPar= [t^2-s^2-r^2+2*s*t+t*r, \"s^2 + t^2 + r^2]\n",
    "zPar= [r^2-s^2-t^2+2*r*s+2*r*t, \"s^2 + t^2 + r^2]"
   ]
  },
  {
   "cell_type": "code",
   "execution_count": 15,
   "metadata": {},
   "outputs": [
    {
     "ename": "TypeError",
     "evalue": "can't multiply sequence by non-int of type 'sage.rings.polynomial.multi_polynomial_libsingular.MPolynomial_libsingular'",
     "output_type": "error",
     "traceback": [
      "\u001b[0;31m---------------------------------------------------------------------------\u001b[0m",
      "\u001b[0;31mTypeError\u001b[0m                                 Traceback (most recent call last)",
      "\u001b[0;32m<timed eval>\u001b[0m in \u001b[0;36m<module>\u001b[0;34m\u001b[0m\n",
      "\u001b[0;32m<ipython-input-2-798d66dea964>\u001b[0m in \u001b[0;36mimplicitate\u001b[0;34m(f1, f2, f3, q1, q2, q3)\u001b[0m\n\u001b[1;32m      5\u001b[0m \u001b[0;34m\u001b[0m\u001b[0m\n\u001b[1;32m      6\u001b[0m \u001b[0;32mdef\u001b[0m \u001b[0mimplicitate\u001b[0m\u001b[0;34m(\u001b[0m\u001b[0mf1\u001b[0m\u001b[0;34m,\u001b[0m\u001b[0mf2\u001b[0m\u001b[0;34m,\u001b[0m\u001b[0mf3\u001b[0m\u001b[0;34m,\u001b[0m\u001b[0mq1\u001b[0m\u001b[0;34m,\u001b[0m\u001b[0mq2\u001b[0m\u001b[0;34m,\u001b[0m\u001b[0mq3\u001b[0m\u001b[0;34m)\u001b[0m\u001b[0;34m:\u001b[0m\u001b[0;34m\u001b[0m\u001b[0;34m\u001b[0m\u001b[0m\n\u001b[0;32m----> 7\u001b[0;31m     \u001b[0mI\u001b[0m \u001b[0;34m=\u001b[0m \u001b[0mideal\u001b[0m\u001b[0;34m(\u001b[0m\u001b[0mq1\u001b[0m\u001b[0;34m*\u001b[0m\u001b[0mx\u001b[0m\u001b[0;34m-\u001b[0m\u001b[0mf1\u001b[0m\u001b[0;34m,\u001b[0m \u001b[0mq2\u001b[0m\u001b[0;34m*\u001b[0m\u001b[0my\u001b[0m\u001b[0;34m-\u001b[0m\u001b[0mf2\u001b[0m\u001b[0;34m,\u001b[0m \u001b[0mq3\u001b[0m\u001b[0;34m*\u001b[0m\u001b[0mz\u001b[0m\u001b[0;34m-\u001b[0m\u001b[0mf3\u001b[0m\u001b[0;34m,\u001b[0m \u001b[0mInteger\u001b[0m\u001b[0;34m(\u001b[0m\u001b[0;36m1\u001b[0m\u001b[0;34m)\u001b[0m\u001b[0;34m-\u001b[0m\u001b[0mq1\u001b[0m\u001b[0;34m*\u001b[0m\u001b[0mq2\u001b[0m\u001b[0;34m*\u001b[0m\u001b[0mq3\u001b[0m\u001b[0;34m*\u001b[0m\u001b[0ml\u001b[0m\u001b[0;34m)\u001b[0m\u001b[0;34m\u001b[0m\u001b[0;34m\u001b[0m\u001b[0m\n\u001b[0m\u001b[1;32m      8\u001b[0m     \u001b[0mB\u001b[0m \u001b[0;34m=\u001b[0m \u001b[0mI\u001b[0m\u001b[0;34m.\u001b[0m\u001b[0mgroebner_basis\u001b[0m\u001b[0;34m(\u001b[0m\u001b[0;34m)\u001b[0m\u001b[0;34m\u001b[0m\u001b[0;34m\u001b[0m\u001b[0m\n\u001b[1;32m      9\u001b[0m \u001b[0;31m#     B = buchberger(I)\u001b[0m\u001b[0;34m\u001b[0m\u001b[0;34m\u001b[0m\u001b[0;34m\u001b[0m\u001b[0m\n",
      "\u001b[0;31mTypeError\u001b[0m: can't multiply sequence by non-int of type 'sage.rings.polynomial.multi_polynomial_libsingular.MPolynomial_libsingular'"
     ]
    }
   ],
   "source": [
    "time(implicitate(xPar[0], yPar[0], zPar[0], xPar[1], yPar[1], zPar[1]))"
   ]
  },
  {
   "cell_type": "markdown",
   "metadata": {},
   "source": [
    "# Tensor product"
   ]
  },
  {
   "cell_type": "code",
   "execution_count": null,
   "metadata": {},
   "outputs": [],
   "source": [
    "P.<s,t,x,y,z,l> = PolynomialRing(QQ, 6, order='lex')\n",
    "\n",
    "time(implicitate(s*t^2-t, s*t+s, 2*s-2*t))"
   ]
  }
 ],
 "metadata": {
  "kernelspec": {
   "display_name": "SageMath 9.3",
   "language": "sage",
   "name": "sagemath"
  },
  "language_info": {
   "codemirror_mode": {
    "name": "ipython",
    "version": 3
   },
   "file_extension": ".py",
   "mimetype": "text/x-python",
   "name": "python",
   "nbconvert_exporter": "python",
   "pygments_lexer": "ipython3",
   "version": "3.7.10"
  }
 },
 "nbformat": 4,
 "nbformat_minor": 4
}
